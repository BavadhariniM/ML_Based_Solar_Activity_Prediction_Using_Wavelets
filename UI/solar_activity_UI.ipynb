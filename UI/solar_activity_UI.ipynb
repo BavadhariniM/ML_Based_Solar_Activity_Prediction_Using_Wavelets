{
 "cells": [
  {
   "cell_type": "markdown",
   "metadata": {},
   "source": [
    "## Building The Model"
   ]
  },
  {
   "cell_type": "code",
   "execution_count": 1,
   "metadata": {},
   "outputs": [],
   "source": [
    "#importing the necessary libraries\n",
    "\n",
    "import os\n",
    "import numpy as np\n",
    "from sklearn.model_selection import train_test_split\n",
    "\n",
    "from keras.models import Sequential\n",
    "from keras.layers import Conv2D, MaxPooling2D, Flatten, Dense, Dropout\n",
    "from keras.optimizers import Adam\n",
    "from keras.utils import to_categorical\n",
    "from keras.models import load_model\n",
    "\n",
    "import pywt\n",
    "import tensorflow"
   ]
  },
  {
   "cell_type": "code",
   "execution_count": 7,
   "metadata": {},
   "outputs": [],
   "source": [
    "model=load_model('lstm_sunspots.h5')\n",
    "modelc=load_model('lstm_with_wav_c.h5')\n",
    "modelx=load_model('lstm_with_wav_x.h5')\n",
    "modelm=load_model('lstm_with_wav_m.h5')"
   ]
  },
  {
   "cell_type": "code",
   "execution_count": 3,
   "metadata": {},
   "outputs": [],
   "source": [
    "def get_model_output(model,input):\n",
    "    return model.predict(input)"
   ]
  },
  {
   "cell_type": "markdown",
   "metadata": {},
   "source": [
    "## UI"
   ]
  },
  {
   "cell_type": "code",
   "execution_count": null,
   "metadata": {},
   "outputs": [
    {
     "name": "stdout",
     "output_type": "stream",
     "text": [
      " * Serving Flask app \"__main__\" (lazy loading)\n",
      " * Environment: production\n",
      "\u001b[31m   WARNING: This is a development server. Do not use it in a production deployment.\u001b[0m\n",
      "\u001b[2m   Use a production WSGI server instead.\u001b[0m\n",
      " * Debug mode: off\n"
     ]
    },
    {
     "name": "stderr",
     "output_type": "stream",
     "text": [
      " * Running on http://127.0.0.1:5000/ (Press CTRL+C to quit)\n"
     ]
    }
   ],
   "source": [
    "from flask import Flask, render_template, request\n",
    "\n",
    "app = Flask(__name__, template_folder='templates')\n",
    "\n",
    "\n",
    "@app.route('/')\n",
    "def index():\n",
    "    return render_template('index.html')\n",
    "\n",
    "@app.route('/predict', methods=['POST'])\n",
    "def predict():\n",
    "    \n",
    "    date = request.files['date']\n",
    "    \n",
    "    prediction = output_prediction(date)\n",
    "   \n",
    "    return render_template('result.html', prediction=prediction)\n",
    "\n",
    "def output_prediction(date):\n",
    "    date=date.split()\n",
    "    d=int(date[0])\n",
    "    m=int(date[1])\n",
    "    y=int(date[2])\n",
    "    sunspots=get_model_ouput(model,np.array([d,m,y]))\n",
    "    \n",
    "    resc=resm=resx=pywt.wavedec([sunspots], 'db2', level=11,mode='smooth')\n",
    "    \n",
    "    for i in resc:\n",
    "        for j in i:\n",
    "            j=get_model_output(modelc,j)\n",
    "    \n",
    "    for i in resm:\n",
    "        for j in i:\n",
    "            j=get_model_output(modelm,j)\n",
    "    \n",
    "    for i in resx:\n",
    "        for j in i:\n",
    "            j=get_model_output(modelx,j)\n",
    "    \n",
    "    c=pywt.waverec(resc,'db2',mode=\"antireflect\")\n",
    "    m=pywt.waverec(resm,'db2',mode=\"antireflect\")\n",
    "    x=pywt.waverec(resx,'db2',mode=\"antireflect\")\n",
    "    \n",
    "    return \"No. of C Class Flares : \"+c+\"\\n\"+\"No. of M Class Flares : \"+m+\"\\n\"+\"No. of X Class Flares : \"+x\n",
    "\n",
    "\n",
    "if __name__ == '__main__':\n",
    "    app.run()\n"
   ]
  },
  {
   "cell_type": "code",
   "execution_count": null,
   "metadata": {},
   "outputs": [],
   "source": []
  }
 ],
 "metadata": {
  "kernelspec": {
   "display_name": "Python 3 (ipykernel)",
   "language": "python",
   "name": "python3"
  },
  "language_info": {
   "codemirror_mode": {
    "name": "ipython",
    "version": 3
   },
   "file_extension": ".py",
   "mimetype": "text/x-python",
   "name": "python",
   "nbconvert_exporter": "python",
   "pygments_lexer": "ipython3",
   "version": "3.9.13"
  }
 },
 "nbformat": 4,
 "nbformat_minor": 4
}
